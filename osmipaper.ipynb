{
  "nbformat": 4,
  "nbformat_minor": 0,
  "metadata": {
    "colab": {
      "name": "osmipaper.ipynb",
      "version": "0.3.2",
      "provenance": [],
      "private_outputs": true,
      "collapsed_sections": []
    },
    "kernelspec": {
      "name": "python3",
      "display_name": "Python 3"
    }
  },
  "cells": [
    {
      "metadata": {
        "id": "CIaa7U_CXKuv",
        "colab_type": "text"
      },
      "cell_type": "markdown",
      "source": [
        "## Steps\n",
        "1. We will read the data set directly here and we will clean and work from here\n",
        "2. Step 1: We will load the modules needed to work\n",
        "3. Step 2: We will keep the data set from a github repository where we have kept it\n",
        "4. Step 3: We will clean the data set using tidy data principles so that our data set will have a limited set of variables.\n",
        "\n",
        "## What is a tidy data set?\n",
        "A tidy data set is a data set that has three properties:\n",
        "\n",
        "- It has only information about the individuals in the rows\n",
        "- It has only information about the variables in the columns\n",
        "- It has only ONE information per cell\n",
        "This concept is attributed to Hadley Wickham. We are using here Python to scrape and clean the data set."
      ]
    },
    {
      "metadata": {
        "id": "3Q1S49O9SkNS",
        "colab_type": "code",
        "colab": {}
      },
      "cell_type": "code",
      "source": [
        "import pandas as pd\n",
        "import matplotlib.pyplot as plt\n",
        "import numpy as np\n",
        "import seaborn as sns\n",
        "#From pandas import Series, DataFrame\n",
        "import json\n",
        "import csv\n",
        "import requests\n",
        "import urllib3\n",
        "import urllib\n",
        "import io\n",
        "import statsmodels as sm"
      ],
      "execution_count": 0,
      "outputs": []
    },
    {
      "metadata": {
        "id": "Eqezpa0XS1Vd",
        "colab_type": "code",
        "colab": {}
      },
      "cell_type": "code",
      "source": [
        "url = \"https://raw.githubusercontent.com/arinbasu/hlth460/master/survey.csv\"\n",
        "data = requests.get(url).content\n",
        "mydata = pd.read_csv(io.StringIO(data.decode('utf-8')))"
      ],
      "execution_count": 0,
      "outputs": []
    },
    {
      "metadata": {
        "id": "--lwwxYTUVBH",
        "colab_type": "code",
        "colab": {}
      },
      "cell_type": "code",
      "source": [
        "mydata.head() # shows all variables"
      ],
      "execution_count": 0,
      "outputs": []
    },
    {
      "metadata": {
        "id": "-e99ZHmuVQ6K",
        "colab_type": "code",
        "colab": {}
      },
      "cell_type": "code",
      "source": [
        "mydata.columns # returns a list of the column names\n",
        "# We will create a smaller data set by removing 'Timestamp', and 'Comments'\n",
        "mydata1 = mydata.drop(['Timestamp', 'comments'], axis = 1) # dropped two variables\n",
        "mydata1['Age'].count() # total number of observations\n",
        "mydata1['age_rec'] = pd.cut(mydata['Age'], bins = [mydata1['Age'].min(), 10, 20, 30, 40, 50, mydata1['Age'].max()])\n",
        "# mydata1['age_rec'].value_counts() # provides with a listing of the counts of diferent categories\n",
        "# we see that age group -1726 to 10 is not possible if these are technology workers of working age, so we will remove these\n",
        "pd.Categorical(mydata1['age_rec'])\n",
        "mydata['age_rec1'] = mydata1['age_rec'].cat.rename_categories(['lt 10', '10-19', '20-29', '30-39', '40-49', 'gt 50']) # need to add the keyword 'cat'\n",
        "mydata1['age_rec1'].value_counts()\n",
        "mydata1['age_rec2'] = mydata1.age_rec1[mydata1.age_rec1 != 'lt 10']\n",
        "mydata1['age_rec2'].value_counts()\n",
        "mydata2 = mydata1.drop(['age_rec', 'age_rec1'], axis = 1) # remove the incoherent age groups\n",
        "mydata2.columns # gives the variable names\n",
        "\n",
        "# count the Gender\n",
        "mydata2['Gender'].value_counts() # gives us the tally of gender categories\n",
        "#pd.Categorical(mydata2['Gender']) # it is impossible to correct it easily here\n",
        "# In these cases, use a spreadsheet to correct using search and find"
      ],
      "execution_count": 0,
      "outputs": []
    },
    {
      "metadata": {
        "id": "Hxd1xpFFYD7f",
        "colab_type": "code",
        "colab": {}
      },
      "cell_type": "code",
      "source": [
        "# In case of recoding the 49 categories of Gender, we will adopt the following logic\n",
        "# x is Gender\n",
        "# if x == 'M' | 'Male', then y == 'Male',\n",
        "# else if x == 'F' | 'Female', then y == 'Female',\n",
        "# else y == 'Other'\n",
        "# then we will do mydata2['gender'] = mydata2.Gender.apply(myfunc)\n",
        "\n",
        "def myfunc(g):\n",
        "  \n",
        "  if (g == \"M\"):\n",
        "    return 'Male'\n",
        "  elif (g == 'Male'):\n",
        "    return 'Male'\n",
        "  elif(g == \"F\"):\n",
        "    return 'Female'\n",
        "  elif(g == \"Female\"):\n",
        "    return 'Female'\n",
        "  else:\n",
        "    return \"Others\"\n",
        "  \n",
        "\n",
        "  \n",
        "\n",
        "mydata2['gender'] = mydata2.Gender.apply(myfunc) \n",
        "mydata2['gender'].value_counts()\n",
        "\n",
        "#mydata2['gender'].count()\n",
        "  "
      ],
      "execution_count": 0,
      "outputs": []
    },
    {
      "metadata": {
        "id": "3jGL4DkRqFyW",
        "colab_type": "code",
        "colab": {}
      },
      "cell_type": "code",
      "source": [
        "# what columns now?\n",
        "mydata2.columns"
      ],
      "execution_count": 0,
      "outputs": []
    },
    {
      "metadata": {
        "id": "EaP4LeEUt1kR",
        "colab_type": "text"
      },
      "cell_type": "markdown",
      "source": [
        "## Our idea\n",
        "At this time, let's try to understand something from the data. Let's say we are interested to find out if mental health interferes with their work. Let's also say that we suspect or we'd like to test evidence from this cross-sectional survey of 1259 people whether their participation in a wellness programme is associated with their perception that their mental health interferes with their work. Albeit true that there will be reverse causation as we do not have any way of knowing from this dataset whether people who attended a wellness programme because of their work interefered by their mental health status or whether their mental health status was affected and they participated in a wellness programme because of this but this existence of the association will tell us a story. We will also like to find out if this varies with country, and the size of the company, and self employment status or whether this is more common among remote workers than those work at the office. \n",
        "\n",
        "## Strategy\n",
        "Therefore we will drop several variables and work with only the following variables in the data set:\n",
        "\n",
        "- age_rec2\n",
        "- gender\n",
        "- Country\n",
        "- self_employed\n",
        "- family_history\n",
        "- treatment\n",
        "- work_interfere\n",
        "- no_employees\n",
        "- remote_work\n",
        "\n"
      ]
    },
    {
      "metadata": {
        "id": "-id7wv5RvOgA",
        "colab_type": "code",
        "colab": {}
      },
      "cell_type": "code",
      "source": [
        "newdata = mydata2[['age_rec2', 'gender', 'Country', 'self_employed', 'family_history', 'treatment', 'work_interfere', 'no_employees', 'remote_work']] # create a subset small data set"
      ],
      "execution_count": 0,
      "outputs": []
    },
    {
      "metadata": {
        "id": "vGg-nf2bvwhC",
        "colab_type": "code",
        "colab": {}
      },
      "cell_type": "code",
      "source": [
        "newdata.describe()"
      ],
      "execution_count": 0,
      "outputs": []
    },
    {
      "metadata": {
        "id": "1qbr_582whCo",
        "colab_type": "code",
        "colab": {}
      },
      "cell_type": "code",
      "source": [
        "newdata['work_interfere'].value_counts() # this gives us the tally of how often does mental health issues interefer with their work\n",
        "newdata['work_interf'] = newdata['work_interfere'].astype('category') # set it to a categorical variable\n",
        "pd.Categorical(newdata['work_interf']) # get a listing\n",
        "newdata['work_interf'].dtype"
      ],
      "execution_count": 0,
      "outputs": []
    },
    {
      "metadata": {
        "id": "2N5MjEjdxBc-",
        "colab_type": "code",
        "colab": {}
      },
      "cell_type": "code",
      "source": [
        "def work(g):\n",
        "  \n",
        "  if (g == \"Never\"):\n",
        "    return 'No'\n",
        "  elif (g == 'Often'):\n",
        "    return 'Yes'\n",
        "  elif(g == \"Rarely\"):\n",
        "    return 'No'\n",
        "  else:\n",
        "    return 'Yes'\n",
        "  \n",
        "\n",
        "newdata['interfere'] = newdata['work_interf'].apply(work)\n",
        "\n",
        "newdata['interfere'].value_counts()"
      ],
      "execution_count": 0,
      "outputs": []
    },
    {
      "metadata": {
        "id": "CN0qMBHE01BR",
        "colab_type": "code",
        "colab": {}
      },
      "cell_type": "code",
      "source": [
        "newdata.describe()\n",
        "\n",
        "# Create a smaller data set\n",
        "\n",
        "newdata_small = newdata[['age_rec2', 'gender', 'Country', 'self_employed',\n",
        "                        'family_history', 'treatment',\n",
        "                        'no_employees',\n",
        "                        'remote_work',\n",
        "                        'interfere']]"
      ],
      "execution_count": 0,
      "outputs": []
    },
    {
      "metadata": {
        "id": "oEh7wS0m2vW5",
        "colab_type": "code",
        "colab": {}
      },
      "cell_type": "code",
      "source": [
        "# Let's run some analysis\n",
        "# Let's get the value counts\n",
        "newdata_small['age_rec2'].value_counts()\n",
        "newdata_small['gender'].value_counts()\n",
        "countrycount = pd.DataFrame(newdata_small['Country'].value_counts()) # a data frame of list of countries with counts\n",
        "countrycount\n",
        "\n",
        "countrycount.Country[countrycount['Country'] > 5].index # then which countries have more than 5 respondents\n",
        "\n",
        "mydata = newdata_small.loc[newdata_small['Country'].isin(countrycount.Country[countrycount['Country'] > 5].index)] # a data subset of all respondents from countries > 5 respondents\n",
        "\n",
        "mydata.describe()\n",
        "mydata2 = mydata[['age_rec2', 'gender', 'self_employed', 'family_history', 'treatment', 'no_employees', 'remote_work', 'interfere']] # take a smaller subset"
      ],
      "execution_count": 0,
      "outputs": []
    },
    {
      "metadata": {
        "id": "55BiIz9d4aH2",
        "colab_type": "code",
        "colab": {}
      },
      "cell_type": "code",
      "source": [
        "self_empl = pd.DataFrame(mydata2['self_employed'].value_counts())\n",
        "interf1 = pd.DataFrame(mydata2['interfere'].value_counts())\n"
      ],
      "execution_count": 0,
      "outputs": []
    },
    {
      "metadata": {
        "id": "AZSTwkgs_OtD",
        "colab_type": "code",
        "colab": {}
      },
      "cell_type": "code",
      "source": [
        "age1 = pd.crosstab(mydata2['age_rec2'], mydata2['interfere'],\n",
        "           margins = True)\n",
        "age1['yespct'] = age1['Yes'] * 100/age1['All']\n",
        "age1\n",
        "\n",
        "sex = pd.crosstab(mydata2['gender'], mydata2['interfere'],\n",
        "           margins = True)\n",
        "sex['yespct'] = sex['Yes'] * 100/sex['All']\n",
        "sex\n",
        "\n",
        "## Write a function to do crosstabs and present the tables\n",
        "\n"
      ],
      "execution_count": 0,
      "outputs": []
    },
    {
      "metadata": {
        "id": "VCq7qvypBDWY",
        "colab_type": "code",
        "colab": {}
      },
      "cell_type": "code",
      "source": [
        ""
      ],
      "execution_count": 0,
      "outputs": []
    }
  ]
}